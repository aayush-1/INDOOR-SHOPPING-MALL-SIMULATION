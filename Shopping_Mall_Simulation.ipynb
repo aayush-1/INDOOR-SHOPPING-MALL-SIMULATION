{
 "cells": [
  {
   "cell_type": "code",
   "execution_count": null,
   "metadata": {},
   "outputs": [],
   "source": [
    "*--Honeywell Hackathon--*"
   ]
  },
  {
   "cell_type": "code",
   "execution_count": 331,
   "metadata": {},
   "outputs": [],
   "source": [
    "import numpy as np\n",
    "import os\n",
    "import queue as Q\n",
    "import time\n",
    "from IPython.display import clear_output"
   ]
  },
  {
   "cell_type": "code",
   "execution_count": 332,
   "metadata": {},
   "outputs": [],
   "source": [
    "MALL_SIZE = 12"
   ]
  },
  {
   "cell_type": "code",
   "execution_count": 335,
   "metadata": {},
   "outputs": [
    {
     "name": "stdout",
     "output_type": "stream",
     "text": [
      "X X X X X X X X X X X X X X \n",
      "X S S S S S S S S S S S - X \n",
      "X - - - - - - - - - - - - X \n",
      "X S S S S S S S S S S S - X \n",
      "X - - - - - - - - - - - - X \n",
      "X S S S S S S S S S S S - X \n",
      "X - - - - - - - - - - - - X \n",
      "X S S S S S S S S S S S - X \n",
      "X - - - - - - - - - - - - X \n",
      "X S S S S S S S S S S S - X \n",
      "X - - - - - - - - - - - - X \n",
      "X S S S S S S S S S S S - X \n",
      "X - - - - - - - - - - - - X \n",
      "X X X X X X X X X X X X X X \n",
      "\n"
     ]
    }
   ],
   "source": [
    "# Random Mall Scenario\n",
    "\n",
    "def display(mall_size,route,shops,final=None,initial=None,End=None,Shopping_list=None):\n",
    "        for r in range(-1,mall_size+1):\n",
    "            for c in range(-1,mall_size+1):\n",
    "                if End!=None and  r == End[0] and c==End[1]:\n",
    "                    print( 'E',end =\" \"),\n",
    "                elif final!=None and  r == final[0] and c==final[1]:\n",
    "                    print( 'T',end =\" \"),\n",
    "                elif initial!=None and  r == initial[0] and c==initial[1]:\n",
    "                    print( 'I',end =\" \"),\n",
    "                elif Shopping_list!=None and [r,c] in Shopping_list:\n",
    "                    print( 'U',end =\" \"),\n",
    "                elif [r,c] in route:\n",
    "                    print( '-',end =\" \"),\n",
    "                elif [r,c] in shops:\n",
    "                    print( 'S',end =\" \"),\n",
    "                elif r == -1 or r == mall_size:\n",
    "                    print( 'X',end =\" \"),\n",
    "                elif c == -1 or c == mall_size:\n",
    "                    print( 'X',end =\" \"),\n",
    "                else:\n",
    "                    print( ' ',end =\" \"),\n",
    "            print()\n",
    "        print()\n",
    "\n",
    "\n",
    "def create_random_mall(n):\n",
    "    shops = []\n",
    "    path = []\n",
    "    for i in range(0,n,2):\n",
    "        for j in range(0,n-1):\n",
    "            shops.append([i,j])\n",
    "        path.append([i,n-1])\n",
    "#         path.append([i,0])\n",
    "    for i in range(1,n,2):\n",
    "        for j in range(0,n):\n",
    "            path.append([i,j])\n",
    "    return shops, path\n",
    "\n",
    "\n",
    "Shops,Paths = create_random_mall(MALL_SIZE)\n",
    "display(MALL_SIZE,Paths,Shops)\n"
   ]
  },
  {
   "cell_type": "code",
   "execution_count": 336,
   "metadata": {},
   "outputs": [
    {
     "name": "stdout",
     "output_type": "stream",
     "text": [
      "X X X X X X X X X X X X X X \n",
      "X S S S S U U S S U S S - X \n",
      "X - - - - - - - - - - - - X \n",
      "X S S S S S S U S S U S - X \n",
      "X - - - - - - - - - - - - X \n",
      "X U U U S S S S S S S U - X \n",
      "X - - - - - - - - - - - - X \n",
      "X S S S S S S S S S S S - X \n",
      "X - - - - - - - - - - - - X \n",
      "X S S S S S S S S S U S - X \n",
      "X - - - - - - - - - - - - X \n",
      "X S S S S U U S S S S S - X \n",
      "X - - - - - - - - - - - - X \n",
      "X X X X X X X X X X X X X X \n",
      "\n"
     ]
    }
   ],
   "source": [
    "No_Shops = len(Shops)\n",
    "pick = np.random.randint(No_Shops,size = int(0.2*No_Shops))\n",
    "S = np.array(Shops)\n",
    "shopping_list = S[pick].tolist()\n",
    "# print(shopping_list)\n",
    "S_L = shopping_list.copy()\n",
    "display(MALL_SIZE,Paths,Shops,Shopping_list = shopping_list)\n",
    "Source = [np.random.randint(1,MALL_SIZE,1)[0], MALL_SIZE-1]"
   ]
  },
  {
   "cell_type": "code",
   "execution_count": 337,
   "metadata": {
    "scrolled": true
   },
   "outputs": [
    {
     "name": "stdout",
     "output_type": "stream",
     "text": [
      "X X X X X X X X X X X X X X \n",
      "X S S S S S S S S S S S   X \n",
      "X                         X \n",
      "X S S S S S S S S S S S   X \n",
      "X                         X \n",
      "X I S S S S S S S S S S   X \n",
      "X - - - - - - - - - - - - X \n",
      "X S S S S S S S S S S S - X \n",
      "X                       - X \n",
      "X S S S S S S S S S S S - X \n",
      "X                       - X \n",
      "X S S S S S S S S S S S - X \n",
      "X                       E X \n",
      "X X X X X X X X X X X X X X \n",
      "\n",
      "Distance -  18.0\n"
     ]
    }
   ],
   "source": [
    "#Entry to MAll is at any point on the right alley - picked randomly:\n",
    "\n",
    "\n",
    "shopping_list = S_L.copy()\n",
    "\n",
    "Source_o = Source\n",
    "End = Source\n",
    "MALL = np.zeros([MALL_SIZE,MALL_SIZE])\n",
    "for i in Shops:\n",
    "    MALL[i[0]][i[1]]=1\n",
    "    \n",
    "    \n",
    "    \n",
    "\n",
    "\n",
    "#Dijkstras Shortes Path Algo to find nearest Shop:\n",
    "\n",
    "while(len(shopping_list)>=0):\n",
    "    pq = Q.PriorityQueue()\n",
    "    dist = np.full([MALL_SIZE,MALL_SIZE],np.inf)\n",
    "    parent = np.zeros([MALL_SIZE,MALL_SIZE,2])\n",
    "    pq.put([0,Source])\n",
    "    dist[Source[0]][Source[1]] = 0\n",
    "\n",
    "    direction = [[1,0],[-1,0],[0,1],[0,-1]]\n",
    "    parent[Source[0]][Source[1]] = [-1,-1]\n",
    "#     parent[Source[0]][Source[1]][1] = -1\n",
    "    while not pq.empty():\n",
    "        n = pq.get()[1];\n",
    "        for d in direction:\n",
    "            x = n[0] + d[0]\n",
    "            y = n[1] + d[1]\n",
    "\n",
    "            if(x>=0 and y>=0 and x<MALL_SIZE and y<MALL_SIZE and dist[x][y] > dist[n[0]][n[1]] + 1):\n",
    "                dist[x][y] = dist[n[0]][n[1]] + 1\n",
    "                parent[x][y] = n\n",
    "                if(MALL[x][y]==0):\n",
    "                    pq.put([dist[x][y],[x,y]])\n",
    "\n",
    "    if(len(shopping_list)==0):\n",
    "        Source = End\n",
    "        m = dist[End[0]][End[1]]\n",
    "        Route = []\n",
    "        n_s = Source\n",
    "        n_s = parent[int(n_s[0])][int(n_s[1])]\n",
    "        while(parent[int(n_s[0])][int(n_s[1])][0]!=-1 or parent[int(n_s[0])][int(n_s[1])][1]!=-1 ):\n",
    "            Route.append(n_s)\n",
    "            n_s = parent[int(n_s[0])][int(n_s[1])]\n",
    "        Route.append(n_s)\n",
    "\n",
    "        for i in range(0,len(Route)):\n",
    "            Route[i] = Route[i].tolist()\n",
    "\n",
    "        time.sleep(2)\n",
    "        clear_output(wait=True)\n",
    "\n",
    "        display(MALL_SIZE,Route,Shops,Source,Source_o,End)\n",
    "        print(\"Distance - \", m)\n",
    "        break;\n",
    "        \n",
    "\n",
    "\n",
    "    # print(parent)\n",
    "\n",
    "    m = np.inf\n",
    "    # print(shopping_list)\n",
    "    for s in shopping_list:\n",
    "        if(m>dist[s[0]][s[1]]):\n",
    "            m = dist[s[0]][s[1]]\n",
    "            Source = s\n",
    "\n",
    "    Route = []\n",
    "    n_s = Source\n",
    "    n_s = parent[int(n_s[0])][int(n_s[1])]\n",
    "    if(n_s[0]!=-1 or n_s[1]!=-1):\n",
    "        while(parent[int(n_s[0])][int(n_s[1])][0]!=-1 or parent[int(n_s[0])][int(n_s[1])][1]!=-1 ):\n",
    "            Route.append(n_s)\n",
    "            n_s = parent[int(n_s[0])][int(n_s[1])]\n",
    "        Route.append(n_s)\n",
    "\n",
    "    for i in range(0,len(Route)):\n",
    "        Route[i] = Route[i].tolist()\n",
    "    \n",
    "    time.sleep(2)\n",
    "    clear_output(wait=True)\n",
    "    \n",
    "    display(MALL_SIZE,Route,Shops,Source,Source_o,Shopping_list=shopping_list)\n",
    "    shopping_list.remove(Source)\n",
    "    Source_o = Source\n",
    "    print(\"Distance - \", m)\n"
   ]
  },
  {
   "cell_type": "code",
   "execution_count": null,
   "metadata": {},
   "outputs": [],
   "source": []
  },
  {
   "cell_type": "code",
   "execution_count": null,
   "metadata": {},
   "outputs": [],
   "source": []
  },
  {
   "cell_type": "markdown",
   "metadata": {},
   "source": []
  }
 ],
 "metadata": {
  "kernelspec": {
   "display_name": "Python 3",
   "language": "python",
   "name": "python3"
  },
  "language_info": {
   "codemirror_mode": {
    "name": "ipython",
    "version": 3
   },
   "file_extension": ".py",
   "mimetype": "text/x-python",
   "name": "python",
   "nbconvert_exporter": "python",
   "pygments_lexer": "ipython3",
   "version": "3.6.10"
  }
 },
 "nbformat": 4,
 "nbformat_minor": 4
}
